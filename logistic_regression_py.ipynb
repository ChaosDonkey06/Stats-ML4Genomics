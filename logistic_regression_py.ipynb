{
 "cells": [
  {
   "cell_type": "code",
   "execution_count": 1,
   "metadata": {},
   "outputs": [],
   "source": [
    "import pandas as pd\n",
    "import numpy as np\n",
    "import os"
   ]
  },
  {
   "cell_type": "markdown",
   "metadata": {},
   "source": [
    "# Scientific question\n",
    "how does transcription profile change with dengue disease?\n",
    "\n",
    "goal: identify biomarkers"
   ]
  },
  {
   "cell_type": "code",
   "execution_count": null,
   "metadata": {},
   "outputs": [],
   "source": [
    "data_df         = pd.read_csv(os.path.join(\"data\", \"dengue\", \"small_transcriptome\", \"denv.csv\"), header=None).T\n",
    "data_df.columns = data_df.iloc[0]\n",
    "data_df         = data_df.iloc[1:]\n",
    "\n",
    "# data_df = data_df.drop(columns=[\"Sample_organism_ch1\", \"Sample_type\",\n",
    "#                        \"Sample_last_update_date\", \"Sample_contact_address\",\n",
    "#                        \"Sample_contact_city\",     \"Sample_contact_state\",\n",
    "#                        \"Sample_contact_country\",  \"Sample_supplementary_file\", \"series_matrix_table_end\",\n",
    "#                        'Sample_data_processing', 'Sample_platform_id', 'Sample_contact_name',\n",
    "#                        'Sample_contact_email', 'Sample_contact_department'])\n",
    "\n",
    "data_df[\"diagnosis\"]  = data_df[\"diagnosis\"].apply(lambda x: x.split(\": \")[1])\n",
    "data_df[\"patient_ID\"] = data_df[\"Sample_title\"].apply(lambda x: \"-\".join(x.split(\"-\")[:-1]))\n",
    "\n",
    "data_disease_df = data_df[[\"patient_ID\", \"diagnosis\"]]\n",
    "#data_disease_df = data_disease_df[data_disease_df.diagnosis != \"exclude\"]\n",
    "data_disease_df[\"patient_diag\"] = data_disease_df[\"patient_ID\"] + \"_\" + data_disease_df[\"diagnosis\"]\n",
    "patient2diag_dict = dict(zip(data_disease_df[\"patient_ID\"], data_disease_df[\"diagnosis\"]))\n"
   ]
  },
  {
   "cell_type": "code",
   "execution_count": null,
   "metadata": {},
   "outputs": [],
   "source": [
    "def modify_patient_id_gene_expression(patient_id):\n",
    "    l = patient_id.split(\"-\")\n",
    "    if len(l) == 3:\n",
    "        return \"-\".join(l[:-1])\n",
    "    else:\n",
    "        return \"-\".join(l)\n",
    "\n",
    "gene_expression_df = pd.read_excel(os.path.join(\"data\", \"dengue\",  \"small_transcriptome\", \"denv_pcr.xlsx\"))\n",
    "gene_expression_df = gene_expression_df[gene_expression_df[\"patient_ID\"]!=\"3-004-01\"]\n",
    "\n",
    "gene_expression_df[\"patient_ID\"] = gene_expression_df[\"patient_ID\"].apply(modify_patient_id_gene_expression)\n",
    "gene_expression_df[\"diagnosis\"]  = gene_expression_df[\"patient_ID\"].apply(lambda x: patient2diag_dict[x])\n",
    "gene_expression_df               = gene_expression_df[gene_expression_df[\"diagnosis\"] != \"exclude\"]\n",
    "gene_expression_df"
   ]
  },
  {
   "cell_type": "code",
   "execution_count": null,
   "metadata": {},
   "outputs": [],
   "source": [
    "gene_expression_df[gene_expression_df.diagnosis==\"healthy\"]"
   ]
  },
  {
   "cell_type": "code",
   "execution_count": null,
   "metadata": {},
   "outputs": [],
   "source": [
    "import matplotlib.pyplot as plt\n",
    "import seaborn as sns\n",
    "\n",
    "\n",
    "fig, ax = plt.subplots(2, 1, figsize=(10.2, 9.2))\n",
    "\n",
    "ax[0].hist(np.log(gene_expression_df[\"Value\"].values), edgecolor=\"w\", facecolor=\"salmon\",\n",
    "                                                                alpha=0.5, bins=20)\n",
    "\n",
    "gene_expression_df[\"log_Value\"] = np.log(gene_expression_df[\"Value\"].values)\n",
    "sns.histplot(ax       = ax[1],\n",
    "            data      = gene_expression_df,\n",
    "            x         = \"log_Value\",\n",
    "            hue       = \"diagnosis\",\n",
    "            edgecolor = \"w\",\n",
    "            bins    = 20,\n",
    "            palette = \"Set2\")\n",
    "ax[1].set_xlabel(None)\n",
    "ax[1].set_ylabel(None)\n",
    "\n",
    "for axi in ax.flatten():\n",
    "    axi.spines[\"top\"].set_visible(False)\n",
    "    axi.spines[\"right\"].set_visible(False)\n",
    "\n",
    "fig.supxlabel(\"RNA expression\", weight=\"bold\")\n",
    "fig.supylabel(\"count\", weight=\"bold\")\n"
   ]
  },
  {
   "cell_type": "code",
   "execution_count": null,
   "metadata": {},
   "outputs": [],
   "source": [
    "np.unique(gene_expression2_df[\"diagnosis\"], return_counts=True)"
   ]
  },
  {
   "cell_type": "code",
   "execution_count": null,
   "metadata": {},
   "outputs": [],
   "source": [
    "import matplotlib.pyplot as plt\n",
    "import seaborn as sns\n",
    "\n",
    "\n",
    "gene_expression2_df = gene_expression_df[gene_expression_df.Quality>0]\n",
    "\n",
    "fig, ax = plt.subplots(2, 1, figsize=(10.2, 9.2))\n",
    "\n",
    "ax[0].hist(gene_expression2_df[\"Value\"].values, edgecolor=\"w\", facecolor=\"salmon\",\n",
    "                                                                alpha=0.5, bins=20)\n",
    "\n",
    "gene_expression2_df[\"log_Value\"] = np.log(gene_expression2_df[\"Value\"].values)\n",
    "sns.histplot(ax       = ax[1],\n",
    "            data      = gene_expression2_df,\n",
    "            x         = \"Value\",\n",
    "            hue       = \"diagnosis\",\n",
    "            edgecolor = \"w\",\n",
    "            bins      = 20,\n",
    "            stat      = \"probability\",\n",
    "            palette   = \"Set2\")\n",
    "\n",
    "ax[1].set_xlabel(None)\n",
    "ax[1].set_ylabel(None)\n",
    "\n",
    "for axi in ax.flatten():\n",
    "    axi.spines[\"top\"].set_visible(False)\n",
    "    axi.spines[\"right\"].set_visible(False)\n",
    "\n",
    "fig.supxlabel(\"RNA expression\", weight=\"bold\")\n",
    "fig.supylabel(\"count\", weight=\"bold\")\n"
   ]
  },
  {
   "cell_type": "code",
   "execution_count": null,
   "metadata": {},
   "outputs": [],
   "source": [
    "def dig2num(diagnosis):\n",
    "    if diagnosis == \"DF\":\n",
    "        return 1\n",
    "    elif diagnosis == \"DHF\":\n",
    "        return 2\n",
    "    elif diagnosis == \"DSS\":\n",
    "        return 3\n",
    "    else:\n",
    "        return 0\n",
    "\n",
    "logistic_reg_df = gene_expression2_df[[\"patient_ID\", \"mRNA\", \"Value\", \"diagnosis\"]]\n",
    "logistic_reg_df[\"value_diag\"] = logistic_reg_df[\"diagnosis\"].apply(dig2num)\n",
    "\n",
    "labels_df                  = logistic_reg_df[[\"patient_ID\", \"value_diag\"]].drop_duplicates().reset_index(drop=True)\n",
    "labels_df[\"disease_label\"] = labels_df[\"value_diag\"].apply(lambda x: 1 if x>0 else 0)\n",
    "\n",
    "expression_mat_df  = pd.pivot_table(logistic_reg_df, index=\"patient_ID\", columns=\"mRNA\", values=\"Value\")\n"
   ]
  },
  {
   "cell_type": "code",
   "execution_count": null,
   "metadata": {},
   "outputs": [],
   "source": [
    "# Importing library\n",
    "from scipy.stats import f_oneway\n",
    "\n",
    "healthy_df    = expression_mat_df.iloc[list(labels_df.disease_label==0), :]\n",
    "diease_df     = expression_mat_df.iloc[list(labels_df.disease_label==1), :]\n",
    "\n",
    "gene1_healthy = healthy_df.iloc[:, 0].values\n",
    "gene1_disease = diease_df.iloc[:, 0].values\n",
    "\n",
    "\n",
    "gene_anova_df = pd.DataFrame(columns=[\"gene\", \"pval\", \"gene_health_mean\", \"gene_disease_mean\"])\n",
    "for igene, gene in enumerate(expression_mat_df.columns):\n",
    "\n",
    "    gene1_healthy = healthy_df.iloc[:, igene].dropna().values\n",
    "    gene1_disease = diease_df.iloc[:, igene].dropna().values\n",
    "\n",
    "\n",
    "    anov              = f_oneway(gene1_healthy, gene1_disease)\n",
    "    pval_gene         = anov.pvalue\n",
    "\n",
    "    gene_health_mean  = gene1_healthy.mean()\n",
    "    gene_disease_mean = gene1_disease.mean()\n",
    "\n",
    "\n",
    "    df = pd.DataFrame([{\"gene\" :        gene,\n",
    "                                        \"pval\":              pval_gene,\n",
    "                                        \"gene_health_mean\":  gene_health_mean,\n",
    "                                        \"gene_disease_mean\": gene_disease_mean}])\n",
    "    gene_anova_df = pd.concat([df, gene_anova_df], ignore_index=True)\n",
    "\n",
    "gene_anova_df[\"log2_expression\"] = np.log2(gene_anova_df[\"gene_disease_mean\"]/gene_anova_df[\"gene_health_mean\"])\n",
    "\n",
    "\n",
    "fig, ax = plt.subplots(1, 1, figsize=(5.2, 5))\n",
    "\n",
    "ax.scatter(gene_anova_df[\"log2_expression\"], -np.log10(gene_anova_df[\"pval\"]), fc=\"w\", ec=\"r\")\n",
    "ax.axhline(-np.log10(0.05), color=\"k\", ls=\"--\")\n",
    "ax.axvline(x=0, color=\"k\", ls=\"--\")\n",
    "\n",
    "for gene in  gene_anova_df[gene_anova_df[\"pval\"]<0.05].gene.values:\n",
    "    row = gene_anova_df[gene_anova_df[\"gene\"]==gene]\n",
    "\n",
    "    ax.scatter(row.log2_expression,   -np.log10(row.pval), fc=\"r\", ec=\"r\")\n",
    "    ax.text(row.log2_expression+1e-2, -np.log10(row.pval)+1e-2, gene)\n",
    "\n",
    "#ax.text(-0.4, -np.log10(0.05), r\"$\\uparrow$ significant\")\n",
    "\n",
    "ax.set_xlabel(r\"$\\mathbf{{\\log_2}}$ change in expression\", weight=\"bold\")\n",
    "ax.set_ylabel(r\"$\\mathbf{{-\\log_{10}}}$ p-value\", weight=\"bold\")\n",
    "\n",
    "ax.set_title(\"Healthy vs Dengue disease\", weight=\"bold\")\n",
    "ax.spines[\"right\"].set_visible(False)\n",
    "ax.spines[\"top\"].set_visible(False)\n",
    "\n",
    "ax.set_xlim(-np.max(np.abs(ax.get_xlim())), np.max(np.abs(ax.get_xlim())))"
   ]
  },
  {
   "cell_type": "code",
   "execution_count": null,
   "metadata": {},
   "outputs": [],
   "source": [
    "gene_anova_df\n"
   ]
  },
  {
   "cell_type": "code",
   "execution_count": null,
   "metadata": {},
   "outputs": [],
   "source": [
    "gene_anova_df"
   ]
  },
  {
   "cell_type": "markdown",
   "metadata": {},
   "source": [
    "# PCA"
   ]
  },
  {
   "cell_type": "code",
   "execution_count": null,
   "metadata": {},
   "outputs": [],
   "source": [
    "# X = feature values, all the columns except the last column\n",
    "x_mat = expression_mat_df.iloc[:, :]\n",
    "μ_x   = np.nanmean(x_mat, axis=0)\n",
    "σ_x   = np.nanstd(x_mat, axis=0)\n",
    "\n",
    "xn_mat = (x_mat - μ_x) / σ_x\n",
    "xn_mat = np.c_[np.ones((xn_mat.shape[0], 1)), xn_mat] ## augment with column of ones\n",
    "y_vec  = labels_df.iloc[:, -1].to_numpy()\n"
   ]
  },
  {
   "cell_type": "code",
   "execution_count": null,
   "metadata": {},
   "outputs": [],
   "source": [
    "from sklearn.decomposition import PCA\n",
    "pca_mRNA_denv = PCA(n_components=2, svd_solver='arpack')\n",
    "pc_mRNA       = pca_mRNA_denv.fit_transform(np.nan_to_num(xn_mat[:, 1:]))\n",
    "\n",
    "\n",
    "label2color = {0:\"red\", 1:\"black\"}\n",
    "y_color     = [label2color[y] for y in y_vec]\n",
    "\n",
    "pca_df          = pd.DataFrame(data = pc_mRNA, columns = ['pc1', 'pc2'])\n",
    "pca_df[\"color\"] = y_color\n",
    "\n",
    "fig, ax = plt.subplots(1, 1, figsize=(5.2, 5))\n",
    "\n",
    "labels = [\"Dengue disease\", \"healthy\"]\n",
    "for ic, c in enumerate([\"red\", \"black\"]):\n",
    "\n",
    "    pca_plot_df = pca_df[pca_df.color == c]\n",
    "    ax.scatter(pca_plot_df.pc1, pca_plot_df.pc2, color=c, label=labels[ic])\n",
    "\n",
    "ax.spines[\"right\"].set_visible(False)\n",
    "ax.spines[\"top\"].set_visible(False)\n",
    "\n",
    "ax.legend(loc=\"upper left\", bbox_to_anchor=(0, 1.15), ncol=2, frameon=False)\n",
    "\n",
    "exp_var = pca_mRNA_denv.explained_variance_\n",
    "\n",
    "ax.set_xlabel(\"principal component 1, {:0.2f}%\".format(exp_var[0]), weight=\"bold\")\n",
    "ax.set_ylabel(\"principal component 2, {:0.2f}%\".format(exp_var[1]), weight=\"bold\")\n"
   ]
  },
  {
   "cell_type": "code",
   "execution_count": null,
   "metadata": {},
   "outputs": [],
   "source": [
    "pca_mRNA_denv = PCA(n_components=20, svd_solver='arpack')\n",
    "pc_mRNA       = pca_mRNA_denv.fit_transform(np.nan_to_num(xn_mat[:,1:]))\n",
    "\n",
    "dfLoadings = pd.DataFrame(pca_mRNA_denv.components_,\n",
    "                          columns = expression_mat_df.columns,\n",
    "                          index   = [f\"pc{i}\" for i in range(1, 20+1)])\n"
   ]
  },
  {
   "cell_type": "code",
   "execution_count": null,
   "metadata": {},
   "outputs": [],
   "source": [
    "pca_mRNA_denv.explained_variance_\n",
    "\n",
    "fig, ax = plt.subplots(1, 1, figsize=(7.2, 5))\n",
    "\n",
    "ax.bar(range(1,     len(pca_mRNA_denv.explained_variance_ratio_)+1), pca_mRNA_denv.explained_variance_, color=\"teal\")\n",
    "ax.plot(range(1,    len(pca_mRNA_denv.explained_variance_ratio_)+1), np.cumsum(pca_mRNA_denv.explained_variance_), color=\"k\", ls=\"-\")\n",
    "ax.scatter(range(1, len(pca_mRNA_denv.explained_variance_ratio_)+1), np.cumsum(pca_mRNA_denv.explained_variance_), color=\"k\")\n",
    "\n",
    "ax.set_ylabel(\"explained variance %\", weight=\"bold\")\n",
    "ax.set_xlabel(\"principal component\", weight=\"bold\")\n",
    "\n",
    "ax.spines[\"right\"].set_visible(False)\n",
    "ax.spines[\"top\"].set_visible(False)\n"
   ]
  },
  {
   "cell_type": "markdown",
   "metadata": {},
   "source": [
    "# Logistic regression"
   ]
  },
  {
   "cell_type": "code",
   "execution_count": null,
   "metadata": {},
   "outputs": [],
   "source": [
    "from scipy.optimize import fmin_tnc\n",
    "\n",
    "def sigmoid(x):\n",
    "    return 1 / (1 + np.exp(-x))\n",
    "\n",
    "def prob(theta, x):\n",
    "    return sigmoid(np.dot(x, theta))\n",
    "\n",
    "def objective(theta, x, y):\n",
    "    # Computes the (negative of the) objective function, for all the training samples\n",
    "    p = prob(theta, x)\n",
    "    return -np.sum(y * np.log(p) + (1 - y) * np.log(1 - p))\n",
    "\n",
    "def gradient(theta, x, y):\n",
    "    # Computes the gradient of the cost function at the point theta values\n",
    "    return np.dot(x.T, sigmoid(np.dot(x, theta)) - y)\n",
    "\n",
    "def fit(x, y, theta):\n",
    "    return fmin_tnc(func=objective, x0=theta, fprime=gradient, args=(x, y))[0]\n"
   ]
  },
  {
   "cell_type": "code",
   "execution_count": null,
   "metadata": {},
   "outputs": [],
   "source": [
    "θ_0        = np.zeros((xn_mat.shape[1], 1))\n",
    "theta_star = fit(np.nan_to_num(xn_mat), y_vec, θ_0)\n",
    "theta_star"
   ]
  },
  {
   "cell_type": "code",
   "execution_count": null,
   "metadata": {},
   "outputs": [],
   "source": [
    "def accuracy(x, actual_classes, θ):\n",
    "    predicted_classes = (prob(θ, x) >= 0.5).astype(int).flatten()\n",
    "    return 100 * np.mean(predicted_classes == actual_classes)\n",
    "\n",
    "acc = accuracy(xn_mat, y_vec, theta_star)\n",
    "\n",
    "print(\"\\n Accuracy {}\\n\".format(acc))"
   ]
  },
  {
   "cell_type": "code",
   "execution_count": null,
   "metadata": {},
   "outputs": [],
   "source": [
    "\n",
    "fig, ax = plt.subplots(1, 1, figsize=(7.2, 5))\n",
    "ax.bar(expression_mat_df.columns.values, theta_star[1:], color=\"gray\", edgecolor=\"w\")\n",
    "\n",
    "ax.axhline(0, color=\"k\", ls=\"-\", lw=0.5)\n",
    "\n",
    "ax.set_ylabel(r\"logistic regression coefficient, $\\mathbf{{\\theta_i}}$\", weight=\"bold\")\n",
    "ax.set_xticklabels(expression_mat_df.columns.values, rotation=90)\n",
    "ax.spines[\"right\"].set_visible(False)\n",
    "ax.spines[\"top\"].set_visible(False)"
   ]
  },
  {
   "cell_type": "markdown",
   "metadata": {},
   "source": [
    "## logistic regression just on the 5 genes significant ($p_{\\text{value}}$ $\\leq$ 0.05 ) in the ANOVA (volcano plot)\n"
   ]
  },
  {
   "cell_type": "code",
   "execution_count": null,
   "metadata": {},
   "outputs": [],
   "source": [
    "genes_diff_exp = [\"GAPDH\", \"TOR3A\", \"GYG1\", \"RABL2A\", \"CACNA2D3\"]\n",
    "\n",
    "x_mat = expression_mat_df[genes_diff_exp].iloc[:, :]\n",
    "μ_x   = np.nanmean(x_mat, axis=0)\n",
    "σ_x   = np.nanstd(x_mat, axis=0)\n",
    "\n",
    "xn_mat = (x_mat - μ_x) / σ_x\n",
    "xn_mat = np.c_[np.ones((xn_mat.shape[0], 1)), xn_mat] ## augment with column of ones\n",
    "y_vec  = labels_df.iloc[:, -1].to_numpy()\n",
    "\n",
    "# regression\n",
    "θ_0        = np.zeros((xn_mat.shape[1], 1))\n",
    "θ_star = fit(np.nan_to_num(xn_mat), y_vec, θ_0)\n",
    "θ_star\n",
    "\n",
    "acc   = accuracy(xn_mat, y_vec, θ_star)\n",
    "print(\"\\n Accuracy {}\\n\".format(acc))\n"
   ]
  },
  {
   "cell_type": "markdown",
   "metadata": {},
   "source": [
    "## logistic regression on the first 20 principal components"
   ]
  },
  {
   "cell_type": "code",
   "execution_count": null,
   "metadata": {},
   "outputs": [],
   "source": [
    "θ_02  = np.zeros((pc_mRNA.shape[1], 1))\n",
    "θ_hat = fit(pc_mRNA, y_vec, θ_02)\n"
   ]
  },
  {
   "cell_type": "code",
   "execution_count": null,
   "metadata": {},
   "outputs": [],
   "source": [
    "acc   = accuracy(pc_mRNA, y_vec, θ_hat)\n",
    "print(\"\\n Accuracy {}\\n\".format(acc))\n"
   ]
  },
  {
   "cell_type": "code",
   "execution_count": null,
   "metadata": {},
   "outputs": [],
   "source": [
    "fig, ax = plt.subplots(1, 1, figsize=(7.2, 5))\n",
    "ax.bar([f\"PC{i}\" for i in range(1, 20)], θ_hat[1:], color=\"gray\", edgecolor=\"w\")\n",
    "\n",
    "ax.set_ylabel(r\"logistic regression coefficient, $\\mathbf{{\\theta_i}}$\", weight=\"bold\")\n",
    "\n",
    "ax.set_xticklabels([f\"PC{i}\" for i in range(1, 20)], rotation=90)\n",
    "ax.axhline(0, color=\"k\", ls=\"-\", lw=0.5)\n",
    "ax.spines[\"right\"].set_visible(False)\n",
    "ax.spines[\"top\"].set_visible(False)\n"
   ]
  },
  {
   "cell_type": "markdown",
   "metadata": {},
   "source": [
    "## cross-validation (and bootstrapping)\n",
    "\n",
    "textbooks typically introduce both cross-validation and bootstrapping in different sections. They technically are different but the goal of both is the same: estimate expected prediction error.\n",
    "\n",
    "\n",
    "**cross-validation**\n",
    "\n",
    "in CV one ideally has a huge dataset that can split in $K$ partitions each one with the same number of training samples. Given those partitions, the training procedure involves training a model in the data that belongs to $K-1$ partitions and using the one left out for testing. That way you'll end with $K$ models trained and the expected prediction accuracy is just the average accuracy across the partitions.\n",
    "\n",
    "**bootstrapping**\n",
    "\n",
    "Bootstrapping corresponds to a sampling procedure of a fixed dataset as described below. I like to think of this method as a Monte Carlo method where the distribution to sample is the empirical distribution given by the dataset and thus random sampling is equivalent to drawing from that distribution. As a consequence, the estimate of the prediction accuracy also has embedded information of the variance of that accuracy, a Monte Carlo estimate specifically. Thus, cross-validation allows an estimate of the variance of the prediction accuracy.\n",
    "\n",
    "\n",
    "Additionally, typically it is hard to have huge sample sizes of observed phenomena, like the Dengue disease case where clinical cases due to severe disease are a small ($\\sim$ 10\\%) sample of the true infections. and thus the bootstrapping language is preferred.\n",
    "\n",
    "\n",
    "the idea here is to created $K$ models trained on $N-T$ train samples where $N$ is the size of the data set and $T$ the size of the test set.\n",
    "\n",
    "\n",
    "the $N-T$ train samples are drawn with resample from the dataset, so each training set represents a random population sample and so does the test set.\n",
    "\n",
    "\n",
    "in reality of course is not random as $P(\\text{blood sample}|\\text{disease})$ is way bigger than $P(\\text{blood sample}|\\text{healthy})$ in real life, but we don't know those numbers so far so bootstrapping (cross-validation) is the best we can do to estimate the test error/accuracy.\n",
    "\n",
    "\n",
    "This estimate is in theory a statistical, unbiased $\\left(\\mathbb{E}[\\hat{\\text{error}}] = \\text{error}\\right)$, estimate of the test error in IID population, which is generally not the case but still is the best we can do.\n",
    "\n"
   ]
  },
  {
   "cell_type": "code",
   "execution_count": null,
   "metadata": {},
   "outputs": [],
   "source": [
    "def cross_val_indexes(n, n_train_frac=80, K=30):\n",
    "\n",
    "    n_train = int(n * n_train_frac / 100)\n",
    "    n_test  = n - n_train\n",
    "\n",
    "    train_indexes = np.full((K, n_train), np.nan)\n",
    "    test_indexes  = np.full((K, n_test), np.nan)\n",
    "\n",
    "    indexes = np.arange(n)\n",
    "    for ki in range(K):\n",
    "\n",
    "        train_indexes[ki, :] = np.random.choice(indexes, n_train, replace=True)\n",
    "        test_index           = list(set(indexes) - set(train_indexes[ki, :]))\n",
    "        test_indexes[ki, :]  = np.random.choice(test_index, n_test, replace=True)\n",
    "\n",
    "    return np.asarray(train_indexes, dtype=int),  np.asarray(test_indexes, dtype=int)\n",
    "\n"
   ]
  },
  {
   "cell_type": "code",
   "execution_count": null,
   "metadata": {},
   "outputs": [],
   "source": [
    "x_mat = expression_mat_df.iloc[:, :]\n",
    "μ_x   = np.nanmean(x_mat, axis=0)\n",
    "σ_x   = np.nanstd(x_mat, axis=0)\n",
    "\n",
    "xn_mat = (x_mat - μ_x) / σ_x\n",
    "xn_mat = np.c_[np.ones((xn_mat.shape[0], 1)), xn_mat] ## augment with column of ones\n",
    "y_vec  = labels_df.iloc[:, -1].to_numpy()\n",
    "\n",
    "K   = 300\n",
    "train_indexes, test_indexes = cross_val_indexes(n=len(expression_mat_df), n_train_frac=80, K=K)\n",
    "\n",
    "θ0 = np.zeros((xn_mat.shape[1], 1))\n",
    "\n",
    "θ_cv       = np.full((K, xn_mat.shape[1]), np.nan)\n",
    "accu_train = np.full(K, np.nan)\n",
    "accu_test  = np.full(K, np.nan)\n",
    "\n",
    "for ki in range(K):\n",
    "\n",
    "    train_set = train_indexes[ki, :]\n",
    "    test_set  = test_indexes[ki, :]\n",
    "\n",
    "    xn_train  = np.nan_to_num(xn_mat[train_set, :])\n",
    "    y_train   = y_vec[train_set]\n",
    "\n",
    "    xn_test  = np.nan_to_num(xn_mat[test_set, :])\n",
    "    y_test   = y_vec[test_set]\n",
    "\n",
    "    θ           = fit(xn_train, y_train, θ0)\n",
    "    θ_cv[ki, :] = θ\n",
    "\n",
    "    acc_train = accuracy(xn_train, y_train, θ)\n",
    "    acc_test  = accuracy(xn_test, y_test, θ)\n",
    "\n",
    "    accu_train[ki] = acc_train\n",
    "    accu_test[ki]  = acc_test\n"
   ]
  },
  {
   "cell_type": "code",
   "execution_count": null,
   "metadata": {},
   "outputs": [],
   "source": [
    "fig, ax = plt.subplots(1, 1, figsize=(7.2, 5))\n",
    "\n",
    "bplot = ax.boxplot(θ_cv[:, :],\n",
    "                patch_artist = True,  # fill with color\n",
    "                labels       = [\"intercept\"]+list(expression_mat_df.columns.values))  # will be used to label x-ticks\n",
    "\n",
    "ax.set_ylabel(r\"logistic regression coefficient, $\\mathbf{{\\theta_i}}$\", weight=\"bold\")\n",
    "ax.set_xticklabels([\"intercept\"]+list(expression_mat_df.columns.values), rotation=90)\n",
    "ax.axhline(0, color=\"k\", ls=\"-\", lw=0.5)\n",
    "ax.spines[\"right\"].set_visible(False)\n",
    "ax.spines[\"top\"].set_visible(False)\n",
    "\n",
    "# fill with colors.\n",
    "for patch in bplot['boxes']:\n",
    "    patch.set_facecolor(\"w\")\n",
    "    patch.set_edgecolor(\"k\")\n"
   ]
  },
  {
   "cell_type": "code",
   "execution_count": null,
   "metadata": {},
   "outputs": [],
   "source": [
    "fig, ax = plt.subplots(1, 3, figsize=(9.2, 5))\n",
    "\n",
    "bplot1 = ax[0].boxplot(accu_train,\n",
    "                    patch_artist = True,          # fill with color\n",
    "                    labels       = [\"train\"])     # will be used to label x-ticks\n",
    "bplot2 = ax[1].boxplot(accu_test,\n",
    "                        patch_artist = True,      # fill with color\n",
    "                        labels       = [\"test\"])  # will be used to label x-ticks\n",
    "\n",
    "ax[2].scatter(accu_train, accu_test, fc=\"w\", ec=\"k\")\n",
    "\n",
    "for axi in ax.flatten():\n",
    "    axi.spines[\"right\"].set_visible(False)\n",
    "    axi.spines[\"top\"].set_visible(False)\n",
    "\n",
    "# fill with colors\n",
    "for patch in bplot1['boxes']:\n",
    "    patch.set_facecolor(\"w\")\n",
    "    patch.set_edgecolor(\"k\")\n",
    "\n",
    "for patch in bplot2['boxes']:\n",
    "    patch.set_facecolor(\"w\")\n",
    "    patch.set_edgecolor(\"k\")\n",
    "\n",
    "ax[2].set_xlabel(\"train accuracy %\", weight=\"bold\")\n",
    "ax[2].set_ylabel(\"test accuracy %\", weight=\"bold\")\n",
    "\n",
    "fig.supylabel(\"accuracy %\", weight=\"bold\")"
   ]
  },
  {
   "cell_type": "code",
   "execution_count": null,
   "metadata": {},
   "outputs": [],
   "source": []
  }
 ],
 "metadata": {
  "kernelspec": {
   "display_name": "base",
   "language": "python",
   "name": "python3"
  },
  "language_info": {
   "codemirror_mode": {
    "name": "ipython",
    "version": 3
   },
   "file_extension": ".py",
   "mimetype": "text/x-python",
   "name": "python",
   "nbconvert_exporter": "python",
   "pygments_lexer": "ipython3",
   "version": "3.11.8"
  }
 },
 "nbformat": 4,
 "nbformat_minor": 2
}
